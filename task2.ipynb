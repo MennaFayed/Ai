{
 "cells": [
  {
   "cell_type": "code",
   "execution_count": 23,
   "id": "ca627079",
   "metadata": {},
   "outputs": [],
   "source": [
    "# Task#1 Remove element that occur more than one time in list"
   ]
  },
  {
   "cell_type": "code",
   "execution_count": 29,
   "id": "3e233a80",
   "metadata": {},
   "outputs": [],
   "source": [
    "M=[10,30,2,8,9,100,2,4,5,2,True,\"menna\",[1,2,3,4]]"
   ]
  },
  {
   "cell_type": "code",
   "execution_count": 30,
   "id": "eeb5dcac",
   "metadata": {},
   "outputs": [
    {
     "data": {
      "text/plain": [
       "[10, 30, 2, 8, 9, 100, 2, 4, 5, 2, True, 'menna', [1, 2, 3, 4]]"
      ]
     },
     "execution_count": 30,
     "metadata": {},
     "output_type": "execute_result"
    }
   ],
   "source": [
    "M"
   ]
  },
  {
   "cell_type": "code",
   "execution_count": 31,
   "id": "5cdfb211",
   "metadata": {},
   "outputs": [
    {
     "name": "stdout",
     "output_type": "stream",
     "text": [
      "enter any number you want to remove it 2\n"
     ]
    }
   ],
   "source": [
    "y = int(input(\"Enter any number you want to remove it \"))\n",
    "for i in M:\n",
    "    if (i == y):\n",
    "        M.remove(i)\n",
    "    "
   ]
  },
  {
   "cell_type": "code",
   "execution_count": 32,
   "id": "ab8b3843",
   "metadata": {},
   "outputs": [
    {
     "data": {
      "text/plain": [
       "[10, 30, 8, 9, 100, 4, 5, True, 'menna', [1, 2, 3, 4]]"
      ]
     },
     "execution_count": 32,
     "metadata": {},
     "output_type": "execute_result"
    }
   ],
   "source": [
    "M"
   ]
  },
  {
   "cell_type": "code",
   "execution_count": 28,
   "id": "2ccc64eb",
   "metadata": {},
   "outputs": [],
   "source": [
    "#Task#2 How to print ascii representation of a character"
   ]
  },
  {
   "cell_type": "code",
   "execution_count": 34,
   "id": "02887ef7",
   "metadata": {},
   "outputs": [
    {
     "name": "stdout",
     "output_type": "stream",
     "text": [
      "Enter any character:a\n",
      "The ASCII value of 'a' is 97\n"
     ]
    }
   ],
   "source": [
    "c = input(\"Enter any character:\")\n",
    "print(\"The ASCII value of '\" + c + \"' is\", ord(c))"
   ]
  },
  {
   "cell_type": "code",
   "execution_count": null,
   "id": "0d9e6e35",
   "metadata": {},
   "outputs": [],
   "source": [
    "#Task#3 "
   ]
  },
  {
   "cell_type": "code",
   "execution_count": 37,
   "id": "3772275f",
   "metadata": {},
   "outputs": [
    {
     "name": "stdout",
     "output_type": "stream",
     "text": [
      "Enter the first num:2\n",
      "Enter the second num:2\n",
      "ENTER YOUR OPERATION: + OR - OR * OR / /\n",
      "1.0\n"
     ]
    }
   ],
   "source": [
    "num1 = int(input(\"Enter the first num:\"))\n",
    "num2 = int(input(\"Enter the second num:\"))\n",
    "which_operation = input(\"ENTER YOUR OPERATION: + OR - OR * OR / \")\n",
    "\n",
    "if(which_operation == \"+\"):\n",
    "    print(num1 + num2)\n",
    "elif(which_operation == \"-\"):\n",
    "    print(num1 - num2)\n",
    "elif(which_operation == \"*\"):\n",
    "    print(num1 * num2)\n",
    "elif(which_operation == \"/\"):\n",
    "    print(num1 / num2)\n",
    "else:\n",
    "    print(\"again\")\n",
    "\n",
    "\n"
   ]
  },
  {
   "cell_type": "code",
   "execution_count": null,
   "id": "b6b0c15e",
   "metadata": {},
   "outputs": [],
   "source": []
  }
 ],
 "metadata": {
  "kernelspec": {
   "display_name": "Python 3",
   "language": "python",
   "name": "python3"
  },
  "language_info": {
   "codemirror_mode": {
    "name": "ipython",
    "version": 3
   },
   "file_extension": ".py",
   "mimetype": "text/x-python",
   "name": "python",
   "nbconvert_exporter": "python",
   "pygments_lexer": "ipython3",
   "version": "3.8.8"
  }
 },
 "nbformat": 4,
 "nbformat_minor": 5
}
